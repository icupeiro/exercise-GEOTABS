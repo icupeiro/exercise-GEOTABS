{
 "cells": [
  {
   "cell_type": "markdown",
   "metadata": {},
   "source": [
    "# Part V. hybrid GEOTABS"
   ]
  },
  {
   "cell_type": "markdown",
   "metadata": {},
   "source": [
    "<div align=\"justify\">\n",
    "The hybrid GEOTABS concept aims to tackle some of the weaknesses of the GEOTABS concept. It adds a fast-reacting secondary emission and/or supply system (i) to assist the high-inertia TABS when load peaks occur in the building and (ii) to meet the individual comfort requirements of each zone by providing individual tuning. Additionally, the installation of a secondary system assists in eliminating the possible thermal imbalance of the geothermal borefield. Nevertheless, the integration of two different systems with two different time constants becomes challenging to control. \n",
    "</div>"
   ]
  },
  {
   "cell_type": "markdown",
   "metadata": {},
   "source": [
    "#### Extra question"
   ]
  },
  {
   "cell_type": "markdown",
   "metadata": {},
   "source": [
    "<div align=\"justify\">\n",
    "You decide to install a secondary system in your building to assist in the dominating load (heating or cooling). Your design criteria is to keep the geothermal borefield as small as possible. You can choose between two options (i) size your secondary system such that it takes up 70% of the peak load, or (ii) size your secondary system such that it removes the ground imbalance. What would be your choice? Why? Which load (hourly, monthly or yearly) has more effect on the borefield size?\n",
    "</div>"
   ]
  },
  {
   "cell_type": "code",
   "execution_count": null,
   "metadata": {},
   "outputs": [],
   "source": [
    "%matplotlib inline\n",
    "from resistanceCalculator import computeResistances\n",
    "\n",
    "computeResistances(qh,qm,qy,kSoi,aSoi,Rb,Tg,Tf)"
   ]
  },
  {
   "cell_type": "markdown",
   "metadata": {},
   "source": [
    "#### References: <br/>\n",
    "\n",
    "<div align=\"justify\">\n",
    "[4] Cimmino, M., & Bernier, M. (2014). A semi-analytical method to generate g-functions for geothermal bore fields. International Journal of Heat and Mass Transfer, 70, 641-650.<br/>\n",
    "[5] Ahmadfard, M., & Bernier, M. (2014). An alternative to ASHRAE's design length equation for sizing borehole heat exchangers. ASHRAE Transactions, 120(2).<br/>\n",
    "[6] Spitler, J. D., & Bernier, M. (2016). Vertical borehole ground heat exchanger design methods. In Advances in ground-source heat pump systems (pp. 29-61). Woodhead Publishing.<br/>\n",
    "</div>"
   ]
  },
  {
   "cell_type": "markdown",
   "metadata": {},
   "source": [
    "[<--- Go to previous part: Static load calculation](PartII_StaticCalc.ipynb)\n",
    "\n",
    "[Go to next part: Dynamic simulations --->](PartIV_DynamicSim.ipynb)"
   ]
  },
  {
   "cell_type": "markdown",
   "metadata": {},
   "source": [
    "<div align=\"right\">\n",
    "Go to next section --->\n",
    "</div>"
   ]
  }
 ],
 "metadata": {
  "kernelspec": {
   "display_name": "Python 2",
   "language": "python",
   "name": "python2"
  },
  "language_info": {
   "codemirror_mode": {
    "name": "ipython",
    "version": 2
   },
   "file_extension": ".py",
   "mimetype": "text/x-python",
   "name": "python",
   "nbconvert_exporter": "python",
   "pygments_lexer": "ipython2",
   "version": "2.7.12"
  }
 },
 "nbformat": 4,
 "nbformat_minor": 2
}
