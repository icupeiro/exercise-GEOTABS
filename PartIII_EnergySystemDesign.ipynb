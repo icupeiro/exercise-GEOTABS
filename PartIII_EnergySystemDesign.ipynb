{
 "cells": [
  {
   "cell_type": "markdown",
   "metadata": {},
   "source": [
    "# Part III. Design of the energy system"
   ]
  },
  {
   "cell_type": "markdown",
   "metadata": {},
   "source": [
    "### Borefield design "
   ]
  },
  {
   "cell_type": "markdown",
   "metadata": {},
   "source": [
    "<div align=\"justify\">\n",
    "Design of the borefield is one of the most delicate parts of GEOTABS buildings. If the borefield size is too small, it will lead to the eventual depletion of the ground source and consequentially to operational problems. If the borefield size is too large, the investment costs will jeopardize the feasibility of the installation. Several features such as the massive ground thermal inertia and thermal interference between the boreholes must be taken into account. Borefield thermal step-responses (also known as g-functions), characteristic for each borefield geometry and configuration, are typically used to predict the borefield fluid temperatures. An example of thermal response functions is given in Figure 3. It can be clearly seen that, as the compactness of the borefield increases (i.e., B/H decreases), the step-response is increased due to thermal interference between the holes. \n",
    "</div>"
   ]
  },
  {
   "cell_type": "markdown",
   "metadata": {},
   "source": [
    " <figure align='centre'>\n",
    "  <img src=\"fig/gfunc.png\" style=\"width:60%\">\n",
    "  <figcaption style=\"text-align: center\">Fig.3 - Example of thermal response functions for a 3x2 borefield configuration [4]</figcaption>\n",
    "</figure> "
   ]
  },
  {
   "cell_type": "markdown",
   "metadata": {},
   "source": [
    "<div align=\"justify\">\n",
    "A simple method to size geothermal borefields is given by the ASHRAE equation. The equation is valid for geothermal boreholes connected in parallel with the building, which are the most common ones found in building applications. The equation relies on the temporal superposition properties of the borefield by applying three consecutive pulses representing the peak load (qh), the maximum monthly load (qm) and the yearly unbalance load (qy). These loads are applied during 4-6 hours, 1 month and the design period (typically between 10 and 25 years) respectively. The thermal response of the borefield fluid for these three loads must stay between the design fluid constraints, as is shown by Figure 4. These design fluid constraints can be dependent on the national legislation, but most often they are within 0 °C (for heating) and 18/35 °C (for passive/active cooling). The ASHRAE equation has been the subject of discussion for many years, with some modifications and contributions by several authors as a result. The most recent version in the literature is provided by Ahmadfard and Bernier [5]:\n",
    "</div>    "
   ]
  },
  {
   "cell_type": "markdown",
   "metadata": {},
   "source": [
    "<div align=\"center\">\n",
    "\\begin{equation}\n",
    "L = \\frac{q_h (R_{gh} + R_b) + q_m R_{gm} + q_y R_{gy}}{T_f - T_g}\n",
    "\\end{equation}\n",
    "</div>"
   ]
  },
  {
   "cell_type": "markdown",
   "metadata": {},
   "source": [
    "<div align=\"justify\">\n",
    "Where: <br/>\n",
    "<ul>\n",
    "  <li>L: borefield total length [$m$]</li>\n",
    "  <li>$q_h$: peak load pulse [$W$]</li>\n",
    "  <li>$q_m$: monthly load pulse [$W$]</li>\n",
    "  <li>$q_y$: yearly load pulse [$W$]</li>\n",
    "  <li>$R_b$: effective borehole resistance [$\\frac{mK}{W}$]</li>\n",
    "  <li>$R_{gh}$: hourly effective ground resistance [$\\frac{mK}{W}$]</li>\n",
    "  <li>$R_{gm}$: monthly effective ground resistance [$\\frac{mK}{W}$]</li>\n",
    "  <li>$R_{gy}$: yearly effective ground resistance [$\\frac{mK}{W}$]</li>\n",
    "  <li>$T_f$: fluid temperature constraint [$°C$]</li>\n",
    "  <li>$T_g$: undisturbed ground temperature [$°C$]</li>\n",
    "</ul>  \n",
    "  \n",
    "</div>  "
   ]
  },
  {
   "cell_type": "markdown",
   "metadata": {},
   "source": [
    " <figure align='centre'>\n",
    "  <img src=\"fig/load_superposition.png\" style=\"width:100%\">\n",
    "  <figcaption style=\"text-align: center\">Fig.4 - Evaluation of Tf-Tg for three consecutive pulses of 10 years, 1 month and 4 hours [6]</figcaption>\n",
    "</figure> "
   ]
  },
  {
   "cell_type": "markdown",
   "metadata": {},
   "source": [
    "<div align=\"justify\">\n",
    "The sign convention is positive when heat is injected into the ground and negative when heat is extracted from the ground. The larger borefield of the two cases should be selected. The effective borehole resistance $R_b$ is a parameter that depends on the borehole geometry, while the effective ground resistances $R_{gh}$, $R_{gm}$ and $R_{gy}$ depend on the thermal response of the borefield. Since this thermal response depends on the borefield length (and also the ground properties and the borefield configuration), an iterative process is required to calculate the borefield length. This iterative process has been implemented in this Notebook using a Python script. The hourly and yearly periods of the code are 6 hours and 20 years respectively. The code first calculates the size for one simple borehole, as if no interference occurs between the boreholes, to get a first estimate of the size. Then, a rectangular borefield configuration is constructed with an initial guess of 100 m per borehole and the code executes the iterative process. \n",
    "</div>"
   ]
  },
  {
   "cell_type": "markdown",
   "metadata": {},
   "source": [
    "#### Question 1"
   ]
  },
  {
   "cell_type": "markdown",
   "metadata": {},
   "source": [
    "<div align=\"justify\">\n",
    "Using the loads you have calculated in the previous part, calculate the buffer tank volume and the circulation pumps mass flow rates of the GEOTABS system. If the circulation pump is used both for heating and cooling purposes, calculate the necessary flows for each mode. \n",
    "<br/>\n",
    "<br/>\n",
    "Assumptions: \n",
    "<br/>    \n",
    "The source side uses water as circulating fluid. Consider a temperature difference of 5 K between the water inlet-outlet in the GSHP condenser and 3 K for all other heat exchangers. Consider a GSHP compressor stop time of 10 minutes. The buffer tank is heated by 4 K during the heating peak load for 10 minutes\n",
    "</div>"
   ]
  },
  {
   "cell_type": "markdown",
   "metadata": {},
   "source": [
    "#### Question 2"
   ]
  },
  {
   "cell_type": "markdown",
   "metadata": {},
   "source": [
    "<div align=\"justify\">\n",
    "Assuming that the nominal COP of the GSHP is 4.9, compute the ground peak and monthly loads as well as the yearly unbalance load.\n",
    "</div>"
   ]
  },
  {
   "cell_type": "markdown",
   "metadata": {},
   "source": [
    "<table>\n",
    "<tbody>\n",
    "<tr>\n",
    "<td rowspan=\"2\" width=\"113\">\n",
    "<p><strong>Ground loads</strong></p>\n",
    "<p><strong>(COP = 4.9)</strong></p>\n",
    "</td>\n",
    "<td colspan=\"2\" width=\"227\">\n",
    "<p><strong>PEAK</strong></p>\n",
    "</td>\n",
    "<td colspan=\"2\" width=\"227\">\n",
    "<p><strong>MONTHLY</strong></p>\n",
    "</td>\n",
    "</tr>\n",
    "<tr>\n",
    "<td width=\"113\">\n",
    "<p><strong>Heating [W]</strong></p>\n",
    "</td>\n",
    "<td width=\"113\">\n",
    "<p><strong>Cooling [W]</strong></p>\n",
    "</td>\n",
    "<td width=\"113\">\n",
    "<p><strong>Heating [W]</strong></p>\n",
    "</td>\n",
    "<td width=\"113\">\n",
    "<p><strong>Cooling [W]</strong></p>\n",
    "</td>\n",
    "</tr>\n",
    "<tr>\n",
    "<td width=\"113\">\n",
    "<p><strong>January</strong></p>\n",
    "</td>\n",
    "<td width=\"113\">\n",
    "<p>&nbsp;</p>\n",
    "</td>\n",
    "<td width=\"113\">\n",
    "<p>&nbsp;</p>\n",
    "</td>\n",
    "<td width=\"113\">\n",
    "<p>&nbsp;</p>\n",
    "</td>\n",
    "<td width=\"113\">\n",
    "<p>&nbsp;</p>\n",
    "</td>\n",
    "</tr>\n",
    "<tr>\n",
    "<td width=\"113\">\n",
    "<p><strong>February</strong></p>\n",
    "</td>\n",
    "<td width=\"113\">\n",
    "<p>&nbsp;</p>\n",
    "</td>\n",
    "<td width=\"113\">\n",
    "<p>&nbsp;</p>\n",
    "</td>\n",
    "<td width=\"113\">\n",
    "<p>&nbsp;</p>\n",
    "</td>\n",
    "<td width=\"113\">\n",
    "<p>&nbsp;</p>\n",
    "</td>\n",
    "</tr>\n",
    "<tr>\n",
    "<td width=\"113\">\n",
    "<p><strong>March</strong></p>\n",
    "</td>\n",
    "<td width=\"113\">\n",
    "<p>&nbsp;</p>\n",
    "</td>\n",
    "<td width=\"113\">\n",
    "<p>&nbsp;</p>\n",
    "</td>\n",
    "<td width=\"113\">\n",
    "<p>&nbsp;</p>\n",
    "</td>\n",
    "<td width=\"113\">\n",
    "<p>&nbsp;</p>\n",
    "</td>\n",
    "</tr>\n",
    "<tr>\n",
    "<td width=\"113\">\n",
    "<p><strong>April</strong></p>\n",
    "</td>\n",
    "<td width=\"113\">\n",
    "<p>&nbsp;</p>\n",
    "</td>\n",
    "<td width=\"113\">\n",
    "<p>&nbsp;</p>\n",
    "</td>\n",
    "<td width=\"113\">\n",
    "<p>&nbsp;</p>\n",
    "</td>\n",
    "<td width=\"113\">\n",
    "<p>&nbsp;</p>\n",
    "</td>\n",
    "</tr>\n",
    "<tr>\n",
    "<td width=\"113\">\n",
    "<p><strong>May</strong></p>\n",
    "</td>\n",
    "<td width=\"113\">\n",
    "<p>&nbsp;</p>\n",
    "</td>\n",
    "<td width=\"113\">\n",
    "<p>&nbsp;</p>\n",
    "</td>\n",
    "<td width=\"113\">\n",
    "<p>&nbsp;</p>\n",
    "</td>\n",
    "<td width=\"113\">\n",
    "<p>&nbsp;</p>\n",
    "</td>\n",
    "</tr>\n",
    "<tr>\n",
    "<td width=\"113\">\n",
    "<p><strong>June</strong></p>\n",
    "</td>\n",
    "<td width=\"113\">\n",
    "<p>&nbsp;</p>\n",
    "</td>\n",
    "<td width=\"113\">\n",
    "<p>&nbsp;</p>\n",
    "</td>\n",
    "<td width=\"113\">\n",
    "<p>&nbsp;</p>\n",
    "</td>\n",
    "<td width=\"113\">\n",
    "<p>&nbsp;</p>\n",
    "</td>\n",
    "</tr>\n",
    "<tr>\n",
    "<td width=\"113\">\n",
    "<p><strong>July</strong></p>\n",
    "</td>\n",
    "<td width=\"113\">\n",
    "<p>&nbsp;</p>\n",
    "</td>\n",
    "<td width=\"113\">\n",
    "<p>&nbsp;</p>\n",
    "</td>\n",
    "<td width=\"113\">\n",
    "<p>&nbsp;</p>\n",
    "</td>\n",
    "<td width=\"113\">\n",
    "<p>&nbsp;</p>\n",
    "</td>\n",
    "</tr>\n",
    "<tr>\n",
    "<td width=\"113\">\n",
    "<p><strong>August</strong></p>\n",
    "</td>\n",
    "<td width=\"113\">\n",
    "<p>&nbsp;</p>\n",
    "</td>\n",
    "<td width=\"113\">\n",
    "<p>&nbsp;</p>\n",
    "</td>\n",
    "<td width=\"113\">\n",
    "<p>&nbsp;</p>\n",
    "</td>\n",
    "<td width=\"113\">\n",
    "<p>&nbsp;</p>\n",
    "</td>\n",
    "</tr>\n",
    "<tr>\n",
    "<td width=\"113\">\n",
    "<p><strong>September</strong></p>\n",
    "</td>\n",
    "<td width=\"113\">\n",
    "<p>&nbsp;</p>\n",
    "</td>\n",
    "<td width=\"113\">\n",
    "<p>&nbsp;</p>\n",
    "</td>\n",
    "<td width=\"113\">\n",
    "<p>&nbsp;</p>\n",
    "</td>\n",
    "<td width=\"113\">\n",
    "<p>&nbsp;</p>\n",
    "</td>\n",
    "</tr>\n",
    "<tr>\n",
    "<td width=\"113\">\n",
    "<p><strong>October</strong></p>\n",
    "</td>\n",
    "<td width=\"113\">\n",
    "<p>&nbsp;</p>\n",
    "</td>\n",
    "<td width=\"113\">\n",
    "<p>&nbsp;</p>\n",
    "</td>\n",
    "<td width=\"113\">\n",
    "<p>&nbsp;</p>\n",
    "</td>\n",
    "<td width=\"113\">\n",
    "<p>&nbsp;</p>\n",
    "</td>\n",
    "</tr>\n",
    "<tr>\n",
    "<td width=\"113\">\n",
    "<p><strong>November</strong></p>\n",
    "</td>\n",
    "<td width=\"113\">\n",
    "<p>&nbsp;</p>\n",
    "</td>\n",
    "<td width=\"113\">\n",
    "<p>&nbsp;</p>\n",
    "</td>\n",
    "<td width=\"113\">\n",
    "<p>&nbsp;</p>\n",
    "</td>\n",
    "<td width=\"113\">\n",
    "<p>&nbsp;</p>\n",
    "</td>\n",
    "</tr>\n",
    "<tr>\n",
    "<td width=\"113\">\n",
    "<p><strong>December</strong></p>\n",
    "</td>\n",
    "<td width=\"113\">\n",
    "<p>&nbsp;</p>\n",
    "</td>\n",
    "<td width=\"113\">\n",
    "<p>&nbsp;</p>\n",
    "</td>\n",
    "<td width=\"113\">\n",
    "<p>&nbsp;</p>\n",
    "</td>\n",
    "<td width=\"113\">\n",
    "<p>&nbsp;</p>\n",
    "</td>\n",
    "</tr>\n",
    "<tr>\n",
    "<td width=\"113\">\n",
    "<p><strong>MAX PEAK</strong></p>\n",
    "</td>\n",
    "<td width=\"113\">\n",
    "<p>&nbsp;</p>\n",
    "</td>\n",
    "<td width=\"113\">\n",
    "<p>&nbsp;</p>\n",
    "</td>\n",
    "<td width=\"113\">\n",
    "<p><strong>YEARLY LOAD</strong></p>\n",
    "</td>\n",
    "<td width=\"113\">&nbsp;</td>\n",
    "</tr>\n",
    "</tbody>\n",
    "</table>\n",
    "<p>&nbsp;</p>"
   ]
  },
  {
   "cell_type": "markdown",
   "metadata": {},
   "source": [
    "#### Question 3"
   ]
  },
  {
   "cell_type": "markdown",
   "metadata": {},
   "source": [
    "<div align=\"justify\">\n",
    "Using the loads you have calculated in Question 2, calculate the total length of your borefield. Check the soil thermal conductivity $k_g$ properties in the SmartGeotherm screening tool for the Uccle location.\n",
    "<br/>\n",
    "<br/>\n",
    "     <a href=\"https://tool.smartgeotherm.be/geo/alg\">SmartGeotherm screening tool</a> \n",
    "<br/>\n",
    "<br/>\n",
    "Assumptions: \n",
    "<br/>   \n",
    "The effective borehole resitance is $R_b = 0.144 \\frac{mK}{W}$. The borefield fluid temperature $T_f$ limit is 0 °C for heating and 18 °C for cooling. The undisturbed ground temperature $T_g$ is 10 °C and its thermal diffusivity $\\alpha_{g}$ is 8.33e-7 $\\frac{m²}{s}$.\n",
    "<br/>    \n",
    "To compute the effective ground resistances, aid yourself using the piece of code below, which calls the function described in the previous paragraph. Change the arguments of the function accordingly.\n",
    "</div>"
   ]
  },
  {
   "cell_type": "code",
   "execution_count": 3,
   "metadata": {},
   "outputs": [
    {
     "ename": "NameError",
     "evalue": "name 'qh' is not defined",
     "output_type": "error",
     "traceback": [
      "\u001b[0;31m\u001b[0m",
      "\u001b[0;31mNameError\u001b[0mTraceback (most recent call last)",
      "\u001b[0;32m<ipython-input-3-356f7e1a08f6>\u001b[0m in \u001b[0;36m<module>\u001b[0;34m()\u001b[0m\n\u001b[1;32m      2\u001b[0m \u001b[0;32mfrom\u001b[0m \u001b[0mresistanceCalculator\u001b[0m \u001b[0;32mimport\u001b[0m \u001b[0mcomputeResistances\u001b[0m\u001b[0;34m\u001b[0m\u001b[0m\n\u001b[1;32m      3\u001b[0m \u001b[0;34m\u001b[0m\u001b[0m\n\u001b[0;32m----> 4\u001b[0;31m \u001b[0mcomputeResistances\u001b[0m\u001b[0;34m(\u001b[0m\u001b[0mqh\u001b[0m\u001b[0;34m,\u001b[0m\u001b[0mqm\u001b[0m\u001b[0;34m,\u001b[0m\u001b[0mqy\u001b[0m\u001b[0;34m,\u001b[0m\u001b[0mkSoi\u001b[0m\u001b[0;34m,\u001b[0m\u001b[0maSoi\u001b[0m\u001b[0;34m,\u001b[0m\u001b[0mRb\u001b[0m\u001b[0;34m,\u001b[0m\u001b[0mTg\u001b[0m\u001b[0;34m,\u001b[0m\u001b[0mTf\u001b[0m\u001b[0;34m)\u001b[0m\u001b[0;34m\u001b[0m\u001b[0m\n\u001b[0m",
      "\u001b[0;31mNameError\u001b[0m: name 'qh' is not defined"
     ]
    }
   ],
   "source": [
    "%matplotlib inline\n",
    "from resistanceCalculator import computeResistances\n",
    "\n",
    "computeResistances(qh,qm,qy,kSoi,aSoi,Rb,Tg,Tf)"
   ]
  },
  {
   "cell_type": "markdown",
   "metadata": {},
   "source": [
    "#### Question 4"
   ]
  },
  {
   "cell_type": "markdown",
   "metadata": {},
   "source": [
    "<div align=\"justify\">\n",
    "Imagine that you can choose two different locations for your building, from which you have results of thermal response tests. The first location has a granite soil with a conductivity $k_g = 3.2 \\frac{W}{mK}$ and the same soil diffusivity as in Question 3. The second location has a special sand soil with a conductivity of $k_g = 2.5 \\frac{W}{mK}$ but a 50% higher thermal diffusivity. Which soil parameter (conductivity or diffusivity) has more influence on the borefield length? In which location would you place the building? Reason why.\n",
    "</div>"
   ]
  },
  {
   "cell_type": "code",
   "execution_count": null,
   "metadata": {},
   "outputs": [],
   "source": [
    "%matplotlib inline\n",
    "from resistanceCalculator import computeResistances\n",
    "\n",
    "computeResistances(qh,qm,qy,kSoi,aSoi,Rb,Tg,Tf)"
   ]
  },
  {
   "cell_type": "markdown",
   "metadata": {},
   "source": [
    "<div align=\"right\">\n",
    "Go to next section --->\n",
    "</div>"
   ]
  }
 ],
 "metadata": {
  "kernelspec": {
   "display_name": "Python 2",
   "language": "python",
   "name": "python2"
  },
  "language_info": {
   "codemirror_mode": {
    "name": "ipython",
    "version": 2
   },
   "file_extension": ".py",
   "mimetype": "text/x-python",
   "name": "python",
   "nbconvert_exporter": "python",
   "pygments_lexer": "ipython2",
   "version": "2.7.12"
  }
 },
 "nbformat": 4,
 "nbformat_minor": 2
}

