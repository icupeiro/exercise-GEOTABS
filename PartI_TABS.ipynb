{
 "cells": [
  {
   "cell_type": "markdown",
   "metadata": {},
   "source": [
    "# Part I. TABS"
   ]
  },
  {
   "cell_type": "markdown",
   "metadata": {},
   "source": [
    "<div align='justify'>\n",
    "Concrete floors/ceilings of the building are activated by embedding pipes in the concrete and circulating warm/cold water through the tubes. Since the whole surface is being used it allows high temperature cooling (> 15 °C) and low temperature heating (< 35 °C). As mentioned, their ability to heat and cool close to room temperatures makes them the perfect match for the heat pump technology. Additionally, the concrete automatically starts cooling as soon as its temperature is lower than the room temperature and vice-versa, resulting in a substantial degree of self-regulation. On the other hand, these small temperature differences also result in low heating and cooling transfer rates, which is a first weakness of TABS. Thanks to the large thermal capacity of the concrete, flattening the thermal load peaks is facilitated. However, the large thermal inertia of the structure does not allow quick system reactions to disturbances, such as changing room temperatures due to increasing internal gains (e.g., solar radiation or occupancy). The latter is a second weakness of TABS. In this part we will investigate these two weaknesses.\n",
    "</div>"
   ]
  },
  {
   "cell_type": "markdown",
   "metadata": {},
   "source": [
    "#### Question 1"
   ]
  },
  {
   "cell_type": "markdown",
   "metadata": {},
   "source": [
    "Consider the following steady-state problem:"
   ]
  },
  {
   "cell_type": "markdown",
   "metadata": {},
   "source": [
    " <figure align='centre'>\n",
    "  <img src=\"fig/tabs.png\" style=\"width:50%\">\n",
    "</figure> "
   ]
  },
  {
   "cell_type": "markdown",
   "metadata": {},
   "source": [
    "<div align=\"justify\">\n",
    "Data: <br/>\n",
    "<ul>\n",
    "  <li>Slab thickness $d = 0.2 [m]$</li>\n",
    "  <li>Slab thermal conductivity $k = 1.4 [\\frac{W}{mK}]$</li>\n",
    "  <li>Combined convective and radiative heat transfer coefficient at the concrete surface $h_{c+r} = 8 [\\frac{W}{m²K}]$</li>\n",
    "  <li>Specific mass flow rate $\\dot{m} = 0.005 [\\frac{kg}{sm²}]$</li>\n",
    "  <li>Water specific capacity $c_p = 4186 [\\frac{J}{kgK}]$</li>\n",
    "</ul>  \n",
    "Air temperature limits at which respectively heating and cooling start: <br/>\n",
    "<ul>\n",
    "  <li>Lower limit $T_{hea} = 21 [°C]$</li>\n",
    "  <li>Upper limit $T_{coo} = 24.5 [°C]$</li>\n",
    "</ul>        \n",
    "</div>  "
   ]
  },
  {
   "cell_type": "markdown",
   "metadata": {},
   "source": [
    "Assuming that the maximum <span style=\"text-decoration: underline\">water supply temperature</span> is 35 °C and the minimum <span style=\"text-decoration: underline\">concrete surface temperature</span> is 19 °C (in order to avoid condensation), calculate the maximum specific heating and cooling power (W/m2). Approximate Tc,core by Tw,ret. In the light of your results, what insights do you get?"
   ]
  },
  {
   "cell_type": "markdown",
   "metadata": {},
   "source": [
    "$\\dot{Q}_{hea} = $\n",
    "\n",
    "\n",
    "$\\dot{Q}_{coo} = $"
   ]
  },
  {
   "cell_type": "markdown",
   "metadata": {},
   "source": [
    "<span style=\"text-decoration: underline\">Note: </span> In practice, the combined radiative and convective heat transfer coefficient at the concrete surface significantly differs between floor and ceiling surfaces. Floors have a higher coefficient for heating while ceiling coefficients are higher for cooling."
   ]
  },
  {
   "cell_type": "markdown",
   "metadata": {},
   "source": [
    "#### Question 2"
   ]
  },
  {
   "cell_type": "markdown",
   "metadata": {},
   "source": [
    "Consider a slab thermal capacity C = 352.8 kJ/m2K and the previously calculated specific heating power $\\dot{Q}_{hea}$. How much time does the slab require to increase its temperature by 1K?"
   ]
  },
  {
   "cell_type": "markdown",
   "metadata": {},
   "source": [
    "$t = $"
   ]
  },
  {
   "cell_type": "markdown",
   "metadata": {},
   "source": [
    "[<--- Go to previous part: Introduction](Introduction.ipynb)\n",
    "\n",
    "[Go to next part: TABS --->](PartII_StaticCalc.ipynb)"
   ]
  }
 ],
 "metadata": {
  "kernelspec": {
   "display_name": "Python 2",
   "language": "python",
   "name": "python2"
  },
  "language_info": {
   "codemirror_mode": {
    "name": "ipython",
    "version": 2
   },
   "file_extension": ".py",
   "mimetype": "text/x-python",
   "name": "python",
   "nbconvert_exporter": "python",
   "pygments_lexer": "ipython2",
   "version": "2.7.12"
  }
 },
 "nbformat": 4,
 "nbformat_minor": 2
}
