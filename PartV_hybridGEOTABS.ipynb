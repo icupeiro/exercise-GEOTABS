{
 "cells": [
  {
   "cell_type": "markdown",
   "metadata": {},
   "source": [
    "# Part V. hybrid GEOTABS"
   ]
  },
  {
   "cell_type": "markdown",
   "metadata": {},
   "source": [
    "<div align=\"justify\">\n",
    "The hybrid GEOTABS concept aims to tackle some of the weaknesses of the GEOTABS concept. It adds a fast-reacting secondary emission and/or supply system (i) to assist the high-inertia TABS when load peaks occur in the building and (ii) to meet the individual comfort requirements of each zone by providing individual tuning. Additionally, the installation of a secondary system assists in eliminating the possible thermal imbalance of the geothermal borefield. Nevertheless, the integration of two different systems with two different time constants becomes challenging to control. \n",
    "</div>"
   ]
  },
  {
   "cell_type": "markdown",
   "metadata": {},
   "source": [
    "#### Extra question"
   ]
  },
  {
   "cell_type": "markdown",
   "metadata": {},
   "source": [
    "<div align=\"justify\">\n",
    "You decide to install a secondary system in your building to assist in the dominating load (heating or cooling). Your design criteria is to keep the geothermal borefield as small as possible. You can choose between two options (i) size your secondary system such that it takes up 70% of the peak load, or (ii) size your secondary system such that it removes the ground imbalance. What would be your choice? Why? Which load (hourly, monthly or yearly) has more effect on the borefield size?\n",
    "</div>"
   ]
  },
  {
   "cell_type": "code",
   "execution_count": null,
   "metadata": {
    "scrolled": true
   },
   "outputs": [],
   "source": [
    "%matplotlib inline\n",
    "from resistanceCalculator import computeResistances\n",
    "\n",
    "qh = 25152*0.3\n",
    "qm = 7470\n",
    "qy = 922\n",
    "kSoi = 1.8\n",
    "aSoi = 8.33e-7\n",
    "Rb = 0.144\n",
    "Tg = 10\n",
    "Tf = 18\n",
    "\n",
    "#### Case 1\n",
    "\n",
    "computeResistances(qh,qm,qy,kSoi,aSoi,Rb,Tg,Tf)\n",
    "\n",
    "Rh = 0.109\n",
    "Rm = 0.202\n",
    "Ry = 0.737\n",
    "\n",
    "L = ((Rh + Rb)*qh + Rm*qm + Ry*qy) / (Tf-Tg)\n",
    "\n",
    "print \"The total length of the borefield in Case 1 is \", L, \"m\"\n",
    "\n",
    "#### Case 2 \n",
    "\n",
    "qh = 25152\n",
    "qy = 0\n",
    "\n",
    "computeResistances(qh,qm,qy,kSoi,aSoi,Rb,Tg,Tf)\n",
    "\n",
    "Rh = 0.109\n",
    "Rm = 0.202\n",
    "Ry = 1.128\n",
    "\n",
    "L = ((Rh + Rb)*qh + Rm*qm + Ry*qy) / (Tf-Tg)\n",
    "\n",
    "print \"The total length of the borefield in Case 2 is \", L, \"m\""
   ]
  },
  {
   "cell_type": "markdown",
   "metadata": {},
   "source": [
    "#### Insights: Normally, the peak load has much more impact on the borefield size, representing often more than 50% of the size. However, this is NOT always the case: in very inbalanced buildings the yearly load has a greater effect"
   ]
  },
  {
   "cell_type": "markdown",
   "metadata": {},
   "source": [
    "[<--- Go to previous part: Dynamic simulations](PartIV_DynamicSim.ipynb)\n"
   ]
  }
 ],
 "metadata": {
  "kernelspec": {
   "display_name": "Python 2",
   "language": "python",
   "name": "python2"
  },
  "language_info": {
   "codemirror_mode": {
    "name": "ipython",
    "version": 2
   },
   "file_extension": ".py",
   "mimetype": "text/x-python",
   "name": "python",
   "nbconvert_exporter": "python",
   "pygments_lexer": "ipython2",
   "version": "2.7.12"
  }
 },
 "nbformat": 4,
 "nbformat_minor": 2
}
