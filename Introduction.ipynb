{
 "cells": [
  {
   "cell_type": "markdown",
   "metadata": {},
   "source": [
    "# Thermal systems (B-KUL-H9X52A) \n",
    "# Thermische systemen (B-KUL-H0S07A)\n",
    "# GEOTABS SESSION"
   ]
  },
  {
   "cell_type": "markdown",
   "metadata": {},
   "source": [
    "### Objective: "
   ]
  },
  {
   "cell_type": "markdown",
   "metadata": {},
   "source": [
    "<div align=\"justify\">\n",
    "The aim of this exercise session is the design of a GEOTABS building. This includes several aspects such as: static calculation of the building energy needs, design of the geothermal borefield and evaluation of the integrated energy system performance by means of dynamic simulations. \n",
    "</div>"
   ]
  },
  {
   "cell_type": "markdown",
   "metadata": {},
   "source": [
    "### But first, what is GEOTABS?"
   ]
  },
  {
   "cell_type": "markdown",
   "metadata": {},
   "source": [
    "<div align=\"justify\">\n",
    "The GEOTABS concept involves buildings whose heat/cold supply system includes a geothermal heat pump (GEO) and whose emission system involves a thermal active building system (TABS) by means of concrete core activation (CCA). These integrated systems have the following features:\n",
    "</div>  "
   ]
  },
  {
   "cell_type": "markdown",
   "metadata": {},
   "source": [
    "<div align=\"justify\">\n",
    "Firstly, the concept is highly energy efficient. TABS supply temperatures are very close to the room temperatures, allowing low temperature heating or high temperature cooling. Consequently, the temperature difference between the emission side and the source side (ground) is kept low, which in turn leads to a higher coefficient of performance (COP) for the ground source heat pump (GSHP) as shown in the equation below for Carnot heat pumps. Additionally, if the GSHP can operate in reverse mode, the same system can be used both for heating and cooling.  \n",
    "</div>"
   ]
  },
  {
   "cell_type": "markdown",
   "metadata": {},
   "source": [
    "<div align=\"center\">\n",
    "\\begin{equation}\n",
    "COP_{max} = \\frac{T_H}{T_H - T_L}\n",
    "\\end{equation}\n",
    "</div>"
   ]
  },
  {
   "cell_type": "markdown",
   "metadata": {},
   "source": [
    "<div align=\"justify\">\n",
    "Secondly, geothermal or ground-source heat pumps are connected to a field of boreholes or borefield. Both the building and the ground thermal inertia are high, creating a buffer effect. The time constant of the concrete building structure is in the order of several hours, allowing useful thermal storage capacity that allows to flatten the thermal load peaks. The time constant of the ground is even higher, in the order of months and years. The associated seasonal energy storage effect allows that the cold stored in the ground during winter is used for direct cooling during summer by using a simple heat exchanger (H-Ex). Figure 1 shows the three operating regimes in a GEOTABS building: heating (using the GSHP), passive cooling (using the H-Ex) and active cooling (using the GSHP in reverse mode). However, the ground source risks to be thermally depleted if the building heating and cooling needs are too unbalanced and the borefield is not sized accordingly. This point requires special attention as the building operation can be jeopardized in the long-term.    \n",
    "</div>  "
   ]
  },
  {
   "cell_type": "markdown",
   "metadata": {},
   "source": [
    " <figure align='centre'>\n",
    "  <img src=\"fig/modes.png\" style=\"width:75%\">\n",
    "  <figcaption style=\"text-align: center\">Fig.1 - GEOTABS operation modes: heating, passive and active cooling. [1]</figcaption>\n",
    "</figure> "
   ]
  },
  {
   "cell_type": "markdown",
   "metadata": {},
   "source": [
    "<div align=\"justify\">\n",
    "Thirdly, since TABS is a radiant system, it provides enhanced comfort compared to other emission systems such as radiators or air-based systems. By using the radiant heat transfer between the human body and the building surfaces (which have much larger surface areas compared to e.g. radiators), a radiant heating/cooling system can provide the same thermal comfort at relatively lower (for heating) and higher (for cooling) air temperatures. Due to these smaller temperature differences, TABS can benefit from the self-regulating effect, providing a stable thermal environment for the occupants. In addition, TABS is able to provide an ideal vertical air temperature gradient (Figure 2) and mitigate air draught. \n",
    "</div>"
   ]
  },
  {
   "cell_type": "markdown",
   "metadata": {},
   "source": [
    "<figure align='centre'>\n",
    "  <img src=\"fig/comfort.png\" style=\"width:75%\">\n",
    "  <figcaption style=\"text-align: center\">Fig.2 - Vertical air temperature differences measured in a test space for different heating systems. Heat flux of 50 W/m² [2]</figcaption>\n",
    "</figure>"
   ]
  },
  {
   "cell_type": "markdown",
   "metadata": {},
   "source": [
    "If you want to know more in detail about GEOTABS buildings, we refer to Chapter 15 - Geothermally activated building structures in 'Advances in ground-souce heat pump systems' [3]"
   ]
  },
  {
   "cell_type": "markdown",
   "metadata": {},
   "source": [
    "#### References: <br/>\n",
    "\n",
    "<div align=\"justify\">\n",
    "[1] Verhelst, C., April 2012. Model Predictive Control of Ground Coupled Heat Pump Systems for Office Buildings (Ph.D. text). KU Leuven, Leuven (Belgium), ISBN 978-94-6018-497-0.<br/>\n",
    "[2] Olesen, B. W. (2002). Radiant floor heating in theory and practice. ASHRAE journal, 44(7), 19-26.<br/>\n",
    "[3] Helsen, L. (2016). Geothermally activated building structures. In Advances in ground-source heat pump systems (pp. 423-452). Woodhead Publishing.<br/>\n",
    "</div>"
   ]
  },
  {
   "cell_type": "markdown",
   "metadata": {},
   "source": [
    "[Go to next part: TABS --->](PartI_TABS.ipynb)"
   ]
  }
 ],
 "metadata": {
  "kernelspec": {
   "display_name": "Python 2",
   "language": "python",
   "name": "python2"
  },
  "language_info": {
   "codemirror_mode": {
    "name": "ipython",
    "version": 2
   },
   "file_extension": ".py",
   "mimetype": "text/x-python",
   "name": "python",
   "nbconvert_exporter": "python",
   "pygments_lexer": "ipython2",
   "version": "2.7.12"
  }
 },
 "nbformat": 4,
 "nbformat_minor": 2
}

