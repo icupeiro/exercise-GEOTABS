{
 "cells": [
  {
   "cell_type": "markdown",
   "metadata": {},
   "source": [
    "# Part IV. Dynamic simulations"
   ]
  },
  {
   "cell_type": "markdown",
   "metadata": {},
   "source": [
    "<div align=\"justify\">\n",
    "The initial objective of this part was to introduce the sizes you have calculated in a dynamic simulation model that represents the integrated building and energy system for its further analysis. \n",
    "Unfortunately, the COVID-19 situation has provoked a change of plans. Due to the technical difficulties that involve the installation of the software (Dymola) in an external machine outside of KU Leuven university network and the uncertainty on the system specifications of your own machines, we have decided to skip the first step. Another point I tried was to upload the model in a cloud-based platform, yet unsuccessfully. Instead, we will do some analysis and interpretation of the results of a year simulation of this integrated model.\n",
    "<br/>\n",
    "<br/>\n",
    "We deeply apologise for the inconveniences that might appear, however we are convinced that the goals of these exercise sessions can still be reached with this alternative approach.\n",
    "</div>"
   ]
  },
  {
   "cell_type": "markdown",
   "metadata": {},
   "source": [
    "#### Control features"
   ]
  },
  {
   "cell_type": "markdown",
   "metadata": {},
   "source": [
    "<div align=\"justify\">\n",
    "The heating/cooling water supply temperatures are given by a heating/cooling curve based on the previous 6 hours average outdoor temperature. These temperatures are achieved by means of the 3-way mixing valve (heating mode) or by varying the speed of the source-side pump (cooling mode). For simplicity of the control, the flow valves and the mode decision control are equipped with an ideal controller to keep the concrete core temperature at 22 °C. However, please note that this way of control is rarely being done. Typically the concrete temperature is not measured, and even if that is the case the uncertainty on the measurement is high. In practice, the flow valves are controlled based on the indoor building temperature (to have some feedback from indoors) and the building decides whether it is in heating or cooling mode based on the average outdoor temperature of a previous period (6 hours, 1 day, etc...). Another typical feature in GEOTABS buildings concerning the building mode decision control is that it is not recommended to jump directly from heating to cooling mode and vice-versa due to GEOTABS high inertia. Instead, there is a neutral mode in between, not providing heating nor cooling.\n",
    "</div>"
   ]
  },
  {
   "cell_type": "markdown",
   "metadata": {},
   "source": [
    "#### Question 1"
   ]
  },
  {
   "cell_type": "markdown",
   "metadata": {},
   "source": [
    "<div align=\"justify\">\n",
    "A year simulation has been performed in the dynamic simulation environment for two different buildings. The buildings have the exact same U-value in their envelope components and internal gains, but the thermal capacity of the building materials is different. The following Python code loads the result files from these two different buildings and plots the operative temperatures both in the north space and the south space. Based on the results you see, which is the building with the larger thermal capacity? Why? <br/>\n",
    "<br/>\n",
    "    Hint: You can change the parameters <code>startHour</code> and <code>endHour</code> to adjust the zoom.\n",
    "</div>"
   ]
  },
  {
   "cell_type": "code",
   "execution_count": null,
   "metadata": {
    "scrolled": true
   },
   "outputs": [],
   "source": [
    "%matplotlib inline\n",
    "import pandas as pd\n",
    "import matplotlib.pyplot as plt\n",
    "plt.rcParams[\"figure.figsize\"] = (20,20)\n",
    "plt.rcParams.update({'font.size': 16})\n",
    "\n",
    "##### LOAD RESULTS ######\n",
    "\n",
    "df1 = pd.read_pickle('results/results1')\n",
    "df2 = pd.read_pickle('results/results2')\n",
    "\n",
    "##### DEFINE PLOT X-AXIS RANGE IN HOURS #####\n",
    "\n",
    "startHour = 0\n",
    "endHour = 8760\n",
    "\n",
    "##### PLOTTING RESULTS #####\n",
    "\n",
    "fig, axes = plt.subplots(nrows=2,ncols=1,sharex=True,gridspec_kw = {'height_ratios':[1,1]})\n",
    "fig.subplots_adjust(hspace=0.2)\n",
    "\n",
    "axes[0].set_xlim([startHour,endHour])\n",
    "axes[0].set_xlabel('Time [hours]')\n",
    "axes[0].set_ylabel('Temperature [$^\\circ C$]')\n",
    "axes[1].set_ylabel('Temperature [$^\\circ C$]')\n",
    "axes[0].set_title('Results file 1')\n",
    "axes[1].set_title('Results file 2')\n",
    "\n",
    "axes[0].plot(df1.index, df1.TZonNor, label='$T_{zon,nor}$', color='blue')\n",
    "axes[0].plot(df1.index, df1.TZonSou, label='$T_{zon,sou}$', color='red')\n",
    "axes[0].legend(loc='upper right')\n",
    "axes[0].plot(df1.index, df1.lowerLim, color='black', linestyle='--')\n",
    "axes[0].plot(df1.index, df1.upperLim, color='black', linestyle='--')\n",
    "\n",
    "axes[1].plot(df2.index, df2.TZonNor, label='$T_{zon,nor}$', color='blue')\n",
    "axes[1].plot(df2.index, df2.TZonSou, label='$T_{zon,sou}$', color='red')\n",
    "axes[1].legend(loc='upper right')\n",
    "axes[1].plot(df2.index, df2.lowerLim, color='black', linestyle='--')\n",
    "axes[1].plot(df2.index, df2.upperLim, color='black', linestyle='--')\n",
    "\n",
    "plt.show()"
   ]
  },
  {
   "cell_type": "markdown",
   "metadata": {},
   "source": [
    "#### Question 2"
   ]
  },
  {
   "cell_type": "markdown",
   "metadata": {},
   "source": [
    "<div align=\"justify\">\n",
    "The following sub-plots represent a period of 2 winter weeks. The first sub-plot includes, apart from the zone temperatures, the concrete core temperatures and the water supply temperature to the CCA. The second sub-plot shows the flow valve position (0: closed, 1: opened), hence indicating how much fluid mass flow rate is passing through the valves. The third sub-plot indicates whether the building is in heating or cooling mode. As you can see, there is a period of overheating in the southern space. Why is this happening? How do you think this could be avoided?\n",
    "</div>"
   ]
  },
  {
   "cell_type": "code",
   "execution_count": null,
   "metadata": {},
   "outputs": [],
   "source": [
    "%matplotlib inline\n",
    "import pandas as pd\n",
    "import matplotlib.pyplot as plt\n",
    "plt.rcParams[\"figure.figsize\"] = (20,30)\n",
    "plt.rcParams.update({'font.size': 16})\n",
    "\n",
    "##### LOAD RESULTS ######\n",
    "\n",
    "df3 = pd.read_pickle('results/results3')\n",
    "\n",
    "##### DEFINE PLOT X-AXIS RANGE IN HOURS #####\n",
    "\n",
    "startHour = 550\n",
    "endHour = 550+168*2\n",
    "\n",
    "##### PLOTTING RESULTS #####\n",
    "\n",
    "fig, axes = plt.subplots(nrows=3,ncols=1,sharex=True,gridspec_kw = {'height_ratios':[1,1,1]})\n",
    "fig.subplots_adjust(hspace=0.2)\n",
    "\n",
    "axes[0].set_xlim([startHour,endHour])\n",
    "axes[2].set_xlabel('Time [hours]')\n",
    "axes[0].set_ylabel('Temperature [$^\\circ C$]')\n",
    "axes[1].set_ylabel('[%]')\n",
    "axes[2].set_ylabel('[-]')\n",
    "axes[0].set_title('Building temperatures')\n",
    "axes[1].set_title('Flow valve opening')\n",
    "axes[2].set_title('Building operation mode')\n",
    "\n",
    "axes[0].plot(df3.index, df3.TZonNor, label='$T_{zon,nor}$', color='blue')\n",
    "axes[0].plot(df3.index, df3.TZonSou, label='$T_{zon,sou}$', color='red')\n",
    "axes[0].plot(df3.index, df3.TCorNor, label='$T_{cor,nor}$', color='blue', linestyle='--')\n",
    "axes[0].plot(df3.index, df3.TCorSou, label='$T_{cor,sou}$', color='red', linestyle='--')\n",
    "axes[0].plot(df3.index, df3.TSup, label='$T_{wat,sup}$', color ='lightblue')\n",
    "axes[0].legend(loc='upper right')\n",
    "axes[0].plot(df3.index, df3.lowerLim, color='black', linestyle='--')\n",
    "axes[0].plot(df3.index, df3.upperLim, color='black', linestyle='--')\n",
    "\n",
    "axes[1].plot(df3.index, df3.valSou*100, color='red', label='$y_{sou}$')\n",
    "axes[1].plot(df3.index, df3.valNor*100, color='blue', label='$y_{nor}$')\n",
    "axes[1].legend(loc='upper right')\n",
    "\n",
    "axes[2].plot(df3.index, df3.heaMode, color='red', label='Heating mode')\n",
    "axes[2].plot(df3.index, df3.cooMode, color='blue', label='Cooling mode')\n",
    "axes[2].legend(loc='upper right')\n",
    "\n",
    "plt.show()"
   ]
  },
  {
   "cell_type": "markdown",
   "metadata": {},
   "source": [
    "#### Question 3"
   ]
  },
  {
   "cell_type": "markdown",
   "metadata": {},
   "source": [
    "<div align=\"justify\">\n",
    "The basement where the energy system is supossed to be installed is quite limited in space. A possible solution could be to reduce the size of your storage tank by half. A dynamic simulation during the winter season is done. The results below show 2000 minutes of operation of the GSHP compressor and the buffer tank temperatures. Based on these results, is this a viable option? Why/Why not?<br/>\n",
    "<br/>\n",
    "    Hint: You can change the parameters <code>startMin</code> and <code>endMin</code> to adjust the zoom.\n",
    "</div>\n",
    "\n"
   ]
  },
  {
   "cell_type": "code",
   "execution_count": null,
   "metadata": {
    "scrolled": false
   },
   "outputs": [],
   "source": [
    "%matplotlib inline\n",
    "import pandas as pd\n",
    "import matplotlib.pyplot as plt\n",
    "plt.rcParams[\"figure.figsize\"] = (20,20)\n",
    "plt.rcParams.update({'font.size': 16})\n",
    "\n",
    "##### LOAD RESULTS ######\n",
    "\n",
    "df4 = pd.read_pickle('results/results4')\n",
    "\n",
    "##### DEFINE PLOT X-AXIS RANGE IN MINUTES #####\n",
    "\n",
    "startMin = 0\n",
    "endMin = 2000\n",
    "\n",
    "##### PLOTTING RESULTS #####\n",
    "\n",
    "fig, axes = plt.subplots(nrows=2,ncols=1,sharex=True,gridspec_kw = {'height_ratios':[1,1]})\n",
    "fig.subplots_adjust(hspace=0.2)\n",
    "\n",
    "axes[0].set_xlim([startMin,endMin])\n",
    "axes[0].set_xlabel('Time [minutes]')\n",
    "axes[0].set_ylabel('Temperature [$^\\circ C$]')\n",
    "axes[1].set_ylabel('[-]')\n",
    "axes[0].set_title('Buffer tank temperature')\n",
    "axes[1].set_title('Compressor status (0: OFF, 1: ON)')\n",
    "\n",
    "axes[0].plot(df4.index, df4.Tbuf, label='$T_{buf}$', color='red')\n",
    "axes[0].legend(loc='upper right')\n",
    "axes[1].plot(df4.index, df4.comOn, color='black')\n",
    "\n",
    "plt.show()"
   ]
  },
  {
   "cell_type": "markdown",
   "metadata": {},
   "source": [
    "#### Question 4"
   ]
  },
  {
   "cell_type": "markdown",
   "metadata": {},
   "source": [
    "The viability of the project is jeopardized due to the high investment costs of the geothermal borefield. Extra dynamic simulations with a smaller borefield size are performed with a new borefield size to evaluate this possibility. The results below represent the fluid temperatures entering/leaving the borefield for the month of January. Based on these results, is the new size suitable for the installation or is it causing operational problems? Why/Why not?<br/>\n",
    "<br/>\n",
    "    Hint: You can change the parameters <code>startMin</code> and <code>endMin</code> to adjust the zoom.\n",
    "</div>"
   ]
  },
  {
   "cell_type": "code",
   "execution_count": null,
   "metadata": {},
   "outputs": [],
   "source": [
    "%matplotlib inline\n",
    "import pandas as pd\n",
    "import matplotlib.pyplot as plt\n",
    "plt.rcParams[\"figure.figsize\"] = (20,10)\n",
    "plt.rcParams.update({'font.size': 16})\n",
    "\n",
    "##### LOAD RESULTS ######\n",
    "\n",
    "df5 = pd.read_pickle('results/results5')\n",
    "\n",
    "##### DEFINE PLOT X-AXIS RANGE IN MINUTES #####\n",
    "\n",
    "startMin = 0\n",
    "endMin = 30*24*60\n",
    "\n",
    "##### PLOTTING RESULTS #####\n",
    "\n",
    "fig, axes = plt.subplots(nrows=1,ncols=1,sharex=True,gridspec_kw = {'height_ratios':[1]})\n",
    "fig.subplots_adjust(hspace=0.2)\n",
    "\n",
    "startMin = 0\n",
    "endMin = 31*24*60\n",
    "\n",
    "axes.set_xlim([startMin,endMin])\n",
    "axes.set_ylim([-0.5, 10.5])\n",
    "axes.set_xlabel('Time [minutes]')\n",
    "axes.set_ylabel('Temperature [$^\\circ C$]')\n",
    "axes.set_title('Borefield fluid temperatures')\n",
    "\n",
    "axes.plot(df5.index, df5.TRet, label='$T_{ret}$', color='red')\n",
    "axes.plot(df5.index, df5.TSup, label='$T_{sup}$', color='blue')\n",
    "axes.legend(loc='upper right')\n",
    "\n",
    "plt.show()"
   ]
  },
  {
   "cell_type": "markdown",
   "metadata": {},
   "source": [
    "[<--- Go to previous part: Design of the energy system](PartIII_EnergySystemDesign.ipynb)\n",
    "\n",
    "[Go to next part: hybrid GEOTABS --->](PartV_hybridGEOTABS.ipynb)\n"
   ]
  }
 ],
 "metadata": {
  "kernelspec": {
   "display_name": "Python 2",
   "language": "python",
   "name": "python2"
  },
  "language_info": {
   "codemirror_mode": {
    "name": "ipython",
    "version": 2
   },
   "file_extension": ".py",
   "mimetype": "text/x-python",
   "name": "python",
   "nbconvert_exporter": "python",
   "pygments_lexer": "ipython2",
   "version": "2.7.12"
  }
 },
 "nbformat": 4,
 "nbformat_minor": 2
}
