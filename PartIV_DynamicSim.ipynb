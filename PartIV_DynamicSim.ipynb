{
 "cells": [
  {
   "cell_type": "markdown",
   "metadata": {},
   "source": [
    "# Part IV. Dynamic simulations"
   ]
  },
  {
   "cell_type": "markdown",
   "metadata": {},
   "source": [
    "<div align=\"justify\">\n",
    "The initial objective of this part was to introduce the sizes you have calculated in a dynamic simulation model that represents the integrated building and energy system for its further analysis. \n",
    "Unfortunately, the COVID-19 situation has provoked a change of plans. Due to the technical difficulties that involve the installation of the software (Dymola) in an external machine outside of KU Leuven university network and the uncertainty on the system specifications of your own machines, we have decided to skip the first step. Another point I tried was to upload the model in a cloud-based platform, yet unsuccessfully. Instead, we will do some analysis and interpretation of the results of a year simulation of this integrated model.\n",
    "<br/>\n",
    "<br/>\n",
    "We deeply apologise for the inconveniences.\n",
    "</div>"
   ]
  },
  {
   "cell_type": "markdown",
   "metadata": {},
   "source": [
    "#### Control features"
   ]
  },
  {
   "cell_type": "markdown",
   "metadata": {},
   "source": [
    "<div align=\"justify\">\n",
    "The heating/cooling water supply temperatures are given by a heating/cooling curve based on the previous 6 hour average outdoor temperature. These temperatures are achieved by means of the 3-way mixing valve (heating mode) or by varying the speed of the source-side pump (cooling mode). For simplicity of the control, the flow valves and the mode decision control are equipped with an ideal controller to keep the concrete core temperature at 22 °C. However, please note that this way of control is rarely being done. Typically the concrete temperature is not measured, and even if that is the case the uncertainty on the measurement is high. In practice, the flow valves are controlled based on the indoor building temperature (to have some feedback from indoors) and the building decides whether it is in heating or cooling mode based on the average outdoor temperature of a previous period (6 hours, 1 day, etc...). Another typical feature in GEOTABS buildings concerning the building mode decision control is that it is not recommended to jump directly from heating to cooling mode and vice-versa due to GEOTABS high inertia. Instead, there is a buffer mode in between, not providing heating nor cooling.\n",
    "</div>"
   ]
  },
  {
   "cell_type": "markdown",
   "metadata": {},
   "source": [
    "#### Question 1"
   ]
  },
  {
   "cell_type": "markdown",
   "metadata": {},
   "source": [
    "[<--- Go to previous part: Design of the energy system](PartIII_EnergySystemDesign.ipynb)\n",
    "\n",
    "[Go to next part: hybrid GEOTABS --->](PartV_hybridGEOTABS.ipynb)\n"
   ]
  }
 ],
 "metadata": {
  "kernelspec": {
   "display_name": "Python 2",
   "language": "python",
   "name": "python2"
  },
  "language_info": {
   "codemirror_mode": {
    "name": "ipython",
    "version": 2
   },
   "file_extension": ".py",
   "mimetype": "text/x-python",
   "name": "python",
   "nbconvert_exporter": "python",
   "pygments_lexer": "ipython2",
   "version": "2.7.12"
  }
 },
 "nbformat": 4,
 "nbformat_minor": 2
}
