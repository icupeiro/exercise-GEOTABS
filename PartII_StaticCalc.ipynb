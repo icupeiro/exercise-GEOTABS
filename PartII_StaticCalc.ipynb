{
 "cells": [
  {
   "cell_type": "markdown",
   "metadata": {},
   "source": [
    "# Part II. Static building load calculation"
   ]
  },
  {
   "cell_type": "markdown",
   "metadata": {},
   "source": [
    "<div align='justify'>\n",
    "The objective of this part is to calculate the heating and cooling needs of a building using a static method.\n",
    "</div>"
   ]
  },
  {
   "cell_type": "markdown",
   "metadata": {},
   "source": [
    "### Heating loads"
   ]
  },
  {
   "cell_type": "markdown",
   "metadata": {},
   "source": [
    "The heating needs of a building are mainly composed of three components:"
   ]
  },
  {
   "cell_type": "markdown",
   "metadata": {},
   "source": [
    "<div align=\"justify\">\n",
    "    <span style=\"text-decoration: underline\">Transmission losses</span> - heat losses through the walls, windows... <br/>\n",
    "\n",
    "$$ \\dot{Q}_{tra} = \\sum_{i} U_i A_i (T_{indoor} - T_{out}) $$\n",
    "\n",
    "Where: <br/>    \n",
    "<ul>\n",
    "  <li>$U$: thermal transmittance of the wall $[\\frac{W}{m²K}]$</li>\n",
    "  <li>$A$: surface of the wall/window/floor/ceiling $[m²]$</li>\n",
    "  <li>$T_{indoor}$: design indoor temperature $[°C]$</li>\n",
    "  <li>$T_{out}$: outdoor temperature $[°C]$</li>\n",
    "</ul>  \n",
    "\n",
    "<span style=\"text-decoration: underline\">Note: </span> for the ground, the yearly outdoor average temperature can be used.\n",
    "\n",
    "</div> "
   ]
  },
  {
   "cell_type": "markdown",
   "metadata": {},
   "source": [
    "<div align=\"justify\">\n",
    "    <span style=\"text-decoration: underline\">Infiltration losses</span> - heat losses due to air ingression (natural or mechanical) of the space, measured using the building airtightness $n_{50}$ <br/>\n",
    "\n",
    "$$ \\dot{Q}_{tra} = \\sum_{i} U_i A_i (T_{indoor} - T_{out}) $$\n",
    "\n",
    "Where: <br/>    \n",
    "<ul>\n",
    "  <li>$U$: thermal transmittance of the wall $[\\frac{W}{m²K}]$</li>\n",
    "  <li>$A$: surface of the wall/window/floor/ceiling $[m²]$</li>\n",
    "  <li>$T_{indoor}$: design indoor temperature $[°C]$</li>\n",
    "  <li>$T_{out}$: outdoor temperature $[°C]$</li>\n",
    "</ul>  \n",
    "\n",
    "<span style=\"text-decoration: underline\">Note: </span> for the ground, the yearly outdoor average temperature can be used.\n",
    "\n",
    "</div> "
   ]
  },
  {
   "cell_type": "markdown",
   "metadata": {},
   "source": [
    "Assuming that the maximum <span style=\"text-decoration: underline\">water supply temperature</span> is 35 °C and the minimum <span style=\"text-decoration: underline\">concrete surface temperature</span> is 19 °C (in order to avoid condensation), calculate the maximum specific heating and cooling power (W/m2). Approximate Tc,core by Tw,ret. In the light of your results, what insights do you get?"
   ]
  },
  {
   "cell_type": "markdown",
   "metadata": {},
   "source": [
    "$\\dot{Q}_{hea} = $\n",
    "\n",
    "\n",
    "$\\dot{Q}_{coo} = $"
   ]
  },
  {
   "cell_type": "markdown",
   "metadata": {},
   "source": [
    "<span style=\"text-decoration: underline\">Note: </span> In practice, the combined radiative and convective heat transfer coefficient at the concrete surface significantly differs between floor and ceiling surfaces. Floors have a higher coefficient for heating while ceiling coefficients are higher for cooling."
   ]
  },
  {
   "cell_type": "markdown",
   "metadata": {},
   "source": [
    "#### Question 2"
   ]
  },
  {
   "cell_type": "markdown",
   "metadata": {},
   "source": [
    "Consider a slab thermal capacity C = 352.8 kJ/m2K and the previously calculated specific heating power $\\dot{Q}_{hea}$. How much time does the slab require to increase its temperature by 1K?"
   ]
  },
  {
   "cell_type": "markdown",
   "metadata": {},
   "source": [
    "$t = $"
   ]
  },
  {
   "cell_type": "markdown",
   "metadata": {},
   "source": [
    "[<--- Go to previous part: Introduction](Introduction.ipynb)\n",
    "\n",
    "[Go to next part: Static load calculation --->](PartII_StaticCalc.ipynb)"
   ]
  }
 ],
 "metadata": {
  "kernelspec": {
   "display_name": "Python 2",
   "language": "python",
   "name": "python2"
  },
  "language_info": {
   "codemirror_mode": {
    "name": "ipython",
    "version": 2
   },
   "file_extension": ".py",
   "mimetype": "text/x-python",
   "name": "python",
   "nbconvert_exporter": "python",
   "pygments_lexer": "ipython2",
   "version": "2.7.12"
  }
 },
 "nbformat": 4,
 "nbformat_minor": 2
}

