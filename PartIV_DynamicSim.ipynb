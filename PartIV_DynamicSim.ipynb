{
 "cells": [
  {
   "cell_type": "markdown",
   "metadata": {},
   "source": [
    "# Part IV. Dynamic simulations"
   ]
  },
  {
   "cell_type": "markdown",
   "metadata": {},
   "source": [
    "<div align=\"justify\">\n",
    "The initial objective of this part was to introduce the sizes you have calculated in a dynamic simulation model that represents the integrated building and energy system for its further analysis. \n",
    "Unfortunately, the COVID-19 situation has provoked a change of plans. Due to the technical difficulties that involve the installation of the software (Dymola) in an external machine outside of KU Leuven university network and the uncertainty on the system specifications of your own machines, we have decided to skip the first step. Another point I tried was to upload the model in a cloud-based platform, yet unsuccessfully. Instead, we will do some analysis and interpretation of the results of a year simulation of this integrated model.\n",
    "</div>"
   ]
  },
  {
   "cell_type": "markdown",
   "metadata": {},
   "source": [
    "#### Extra question"
   ]
  },
  {
   "cell_type": "code",
   "execution_count": null,
   "metadata": {},
   "outputs": [],
   "source": [
    "%matplotlib inline\n",
    "from resistanceCalculator import computeResistances\n",
    "\n",
    "computeResistances(qh,qm,qy,kSoi,aSoi,Rb,Tg,Tf)"
   ]
  },
  {
   "cell_type": "markdown",
   "metadata": {},
   "source": [
    "[<--- Go to previous part: Design of the energy system](PartIII_EnergySystemDesign.ipynb)\n",
    "\n",
    "[Go to next part: hybrid GEOTABS --->](PartV_hybridGEOTABS.ipynb)\n"
   ]
  }
 ],
 "metadata": {
  "kernelspec": {
   "display_name": "Python 2",
   "language": "python",
   "name": "python2"
  },
  "language_info": {
   "codemirror_mode": {
    "name": "ipython",
    "version": 2
   },
   "file_extension": ".py",
   "mimetype": "text/x-python",
   "name": "python",
   "nbconvert_exporter": "python",
   "pygments_lexer": "ipython2",
   "version": "2.7.12"
  }
 },
 "nbformat": 4,
 "nbformat_minor": 2
}
