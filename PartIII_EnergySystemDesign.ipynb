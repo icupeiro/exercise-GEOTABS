{
 "cells": [
  {
   "cell_type": "markdown",
   "metadata": {},
   "source": [
    "# Part III. Design of the energy system"
   ]
  },
  {
   "cell_type": "markdown",
   "metadata": {},
   "source": [
    "<div align=\"justify\">\n",
    "We design now the energy system for Building 1. We assume that the GSHP is not reversible and we want to cover the whole cooling demand using passive cooling. Therefore, the GSHP capacity must cover the heating peak demand and the passive cooling heat exchanger must cover the cooling peak demand. The geothermal borefield not only needs to cover the peak loads, but it also needs to consider the monthly and yearly ground unbalances to guarantee the correct operation of the system during the design period. The design of the borefield will be tackled at the end of this part. The hydronic scheme of the GEOTABS building is schematically shown below. \n",
    "    </div>"
   ]
  },
  {
   "cell_type": "markdown",
   "metadata": {},
   "source": [
    " <figure align='centre'>\n",
    "  <img src=\"fig/hydronic.png\" style=\"width:100%\">\n",
    "</figure> "
   ]
  },
  {
   "cell_type": "markdown",
   "metadata": {},
   "source": [
    "<div align=\"justify\">\n",
    "Where: <br/>\n",
    "<ol>\n",
    "  <li>Borefield</li>\n",
    "  <li>Ground source heat pump</li>\n",
    "  <li>Passive cooling heat exchanger</li>\n",
    "  <li>Buffer tank</li>\n",
    "  <li>Source-side pump</li>\n",
    "  <li>Sink-side pump</li>\n",
    "  <li>Emission-side pump</li>\n",
    "  <li>Mode switching valve</li>\n",
    "  <li>Mode switching valve</li>\n",
    "  <li>Mixing valve</li>\n",
    "  <li>Flow valve</li>\n",
    "  <li>Flow valve</li>\n",
    "</ol>  \n",
    "  \n",
    "</div>  "
   ]
  },
  {
   "cell_type": "markdown",
   "metadata": {},
   "source": [
    "<div align=\"justify\">\n",
    "Note that the ground loads are not the same as the building loads. The energy extracted from the ground is lower than the building heating needs since the GSHP upgrades the heat extracted in the borefield to a higher temperature, thereby using an input of electricity. According to the first law of thermodynamics the condenser heat (injected in the building) equals the sum of evaporator heat (extracted from the ground) and compressor power. \n",
    "    </div>"
   ]
  },
  {
   "cell_type": "markdown",
   "metadata": {},
   "source": [
    "<div align=\"justify\">\n",
    "Since the GSHP capacity is selected according to the building heating peak conditions, most of the time it will provide more than the average building needs. This implies that the GSHP does not work uninterruptedly. However, GSHP manufacturers include some stop-time in the compressor to avoid possible damage by heat pump cycling. A buffer tank is added to the system with the objective of storing some heat for the moments when the compressor is not available and limiting its number of stops, increasing its lifespan. A rule-of-thumb to size the buffer tank is that it is able to provide the heating peak power for at least the stop time of the GSHP using the energy balance equation.\n",
    "    </div>"
   ]
  },
  {
   "cell_type": "markdown",
   "metadata": {},
   "source": [
    "$$ \\rho V c_p \\Delta T = \\dot{Q} \\Delta t $$"
   ]
  },
  {
   "cell_type": "markdown",
   "metadata": {},
   "source": [
    "<div align=\"justify\">\n",
    "Where: <br/>\n",
    "<ul>\n",
    "  <li>$\\rho$: density of the fluid within the tank [$\\frac{kg}{m³}$]</li>\n",
    "  <li>$V$: volume of the storage tank [$m³$]</li>\n",
    "  <li>$c_p$: specific heat capacity of the fluid within the tank [$\\frac{J}{kgK}$]</li>\n",
    "  <li>$\\Delta T$: temperature difference realized in the buffer during $\\Delta t$ [$K$]</li>\n",
    "  <li>$\\dot{Q}$: heating peak load [$W$]</li>\n",
    "  <li>$\\Delta t$: stop time of the GSHP compressor [$s$]</li>\n",
    "</ul>  \n",
    "  \n",
    "</div>  "
   ]
  },
  {
   "cell_type": "markdown",
   "metadata": {},
   "source": [
    "<div align=\"justify\">\n",
    "The circulator pumps can be sized using simple rules-of-thumb, keeping the temperature differences in the heat exchange systems (CCA/condenser/evaporator/borefield) between 3 and 5 K at peak load conditions. Therefore:\n",
    "    </div>"
   ]
  },
  {
   "cell_type": "markdown",
   "metadata": {},
   "source": [
    "$$ \\dot{m} = \\frac{\\dot{Q}}{c_p \\Delta T} $$"
   ]
  },
  {
   "cell_type": "markdown",
   "metadata": {},
   "source": [
    "<div align=\"justify\">\n",
    "Where: <br/>\n",
    "<ul>\n",
    "  <li>$\\dot{m}$: design mass flow rate [$\\frac{kg}{s}$]</li>\n",
    "  <li>$c_p$: specific heat capacity of the fluid [$\\frac{J}{kgK}$]</li>\n",
    "  <li>$\\Delta T$: design temperature difference [$K$]</li>\n",
    "  <li>$\\dot{Q}$: heating peak load [$W$]</li>\n",
    "</ul>  \n",
    "  \n",
    "</div>  "
   ]
  },
  {
   "cell_type": "markdown",
   "metadata": {},
   "source": [
    "<div align=\"justify\">\n",
    "The mode switching valves, as their name indicate, are used to switch the system between heating mode (using the GSHP as the supply system) and cooling mode (using the ground heat exchanger as the supply system). Since the GSHP normally keeps the buffer tank at a specified temperature level, the mixing valve generates the desired supply temperature according to the building heating curve. In cooling mode, this valve remains open. The flow valves regulate the necessary mass flow rate directed to the CCA tubes.\n",
    "    </div>"
   ]
  },
  {
   "cell_type": "markdown",
   "metadata": {},
   "source": [
    "### Borefield design "
   ]
  },
  {
   "cell_type": "markdown",
   "metadata": {},
   "source": [
    "<div align=\"justify\">\n",
    "Design of the borefield is one of the most delicate parts of GEOTABS buildings. If the borefield size is too small, it will lead to the eventual depletion of the ground source and consequentially to operational problems. For instance, in a heating dominated building heat extraction from the ground will cause the fluid temperature to decrease, hampering the GSHP performance and in some extreme causes even causing the fluid or the surrounding ground to freeze. On the other hand, in a cooling dominated building the fluid temperatures can increase up to a point where passive cooling cannot be longer used. However, if we size the borefield too large to avoid these problems the investment costs will jeopardize the feasibility of the installation. Several features such as the massive ground thermal inertia and thermal interference between the boreholes must be taken into account. Borefield thermal step-responses (also known as g-functions), characteristic for each borefield geometry and configuration, are typically used to predict the borefield fluid temperatures. An example of thermal response functions is given in Figure 3. It can be clearly seen that, as the compactness of the borefield increases (i.e., B/H decreases), the step-response is increased due to thermal interference between the holes. \n",
    "</div>"
   ]
  },
  {
   "cell_type": "markdown",
   "metadata": {},
   "source": [
    " <figure align='centre'>\n",
    "  <img src=\"fig/gfunc.png\" style=\"width:60%\">\n",
    "  <figcaption style=\"text-align: center\">Fig.3 - Example of thermal response functions for a 3x2 borefield configuration [4]</figcaption>\n",
    "</figure> "
   ]
  },
  {
   "cell_type": "markdown",
   "metadata": {},
   "source": [
    "<div align=\"justify\">\n",
    "A simple method to size geothermal borefields is given by the ASHRAE equation. The equation is valid for geothermal boreholes connected in parallel with the building, which are the most common ones found in building applications. The equation relies on the temporal superposition properties of the borefield by applying three consecutive pulses representing the peak load ($q_h$), the maximum monthly load ($q_m$) and the yearly unbalance load ($q_y$). These loads are applied during 4-6 hours, 1 month and the design period (typically between 10 and 25 years) respectively. The thermal response of the borefield fluid for these three loads must stay between the design fluid constraints, as is shown by Figure 4. These design fluid constraints can be dependent on the national legislation, but most often they are within 0 °C (for heating) and 18/35 °C (for passive/active cooling). The ASHRAE equation has been the subject of discussion for many years, with some modifications and contributions by several authors as a result. The most recent version in the literature is provided by Ahmadfard and Bernier [5]:\n",
    "</div>    "
   ]
  },
  {
   "cell_type": "markdown",
   "metadata": {},
   "source": [
    "<div align=\"center\">\n",
    "\\begin{equation}\n",
    "L = \\frac{q_h (R_{gh} + R_b) + q_m R_{gm} + q_y R_{gy}}{T_f - T_g}\n",
    "\\end{equation}\n",
    "</div>"
   ]
  },
  {
   "cell_type": "markdown",
   "metadata": {},
   "source": [
    "<div align=\"justify\">\n",
    "Where: <br/>\n",
    "<ul>\n",
    "  <li>L: borefield total length [$m$]</li>\n",
    "  <li>$q_h$: peak load pulse [$W$]</li>\n",
    "  <li>$q_m$: monthly load pulse [$W$]</li>\n",
    "  <li>$q_y$: yearly load pulse [$W$]</li>\n",
    "  <li>$R_b$: effective borehole resistance [$\\frac{mK}{W}$]</li>\n",
    "  <li>$R_{gh}$: hourly effective ground resistance [$\\frac{mK}{W}$]</li>\n",
    "  <li>$R_{gm}$: monthly effective ground resistance [$\\frac{mK}{W}$]</li>\n",
    "  <li>$R_{gy}$: yearly effective ground resistance [$\\frac{mK}{W}$]</li>\n",
    "  <li>$T_f$: fluid temperature constraint [$°C$]</li>\n",
    "  <li>$T_g$: undisturbed ground temperature [$°C$]</li>\n",
    "</ul>  \n",
    "  \n",
    "</div>  "
   ]
  },
  {
   "cell_type": "markdown",
   "metadata": {},
   "source": [
    " <figure align='centre'>\n",
    "  <img src=\"fig/load_superposition.png\" style=\"width:100%\">\n",
    "  <figcaption style=\"text-align: center\">Fig.4 - Evaluation of Tf-Tg for three consecutive pulses of 10 years, 1 month and 4 hours [6]</figcaption>\n",
    "</figure> "
   ]
  },
  {
   "cell_type": "markdown",
   "metadata": {},
   "source": [
    "<div align=\"justify\">\n",
    "The sign convention is positive when heat is injected into the ground and negative when heat is extracted from the ground. The larger borefield of the two cases should be selected. The effective borehole resistance $R_b$ is a parameter that depends on the borehole geometry, while the effective ground resistances $R_{gh}$, $R_{gm}$ and $R_{gy}$ depend on the thermal response of the borefield and the soil thermal properties (thermal conductivity $k_g$ and diffusivity $\\alpha_g$). Since this thermal response depends on the borefield length (and also the ground properties and the borefield configuration), an iterative process is required to calculate the borefield length. This iterative process has been implemented in this Notebook using a Python script. The hourly and yearly periods of the code are 6 hours and 20 years respectively. The code first calculates the size for one simple borehole, as if no interference occurs between the boreholes, to get a first estimate of the size. Then, a rectangular borefield configuration is constructed with an initial guess of 100 m per borehole and the code executes the iterative process. \n",
    "</div>"
   ]
  },
  {
   "cell_type": "markdown",
   "metadata": {},
   "source": [
    "#### Question 1"
   ]
  },
  {
   "cell_type": "markdown",
   "metadata": {},
   "source": [
    "<div align=\"justify\">\n",
    "Using the loads you have calculated in the previous part, calculate the buffer tank volume and the circulation pumps mass flow rates of the GEOTABS system. If the circulation pump is used both for heating and cooling purposes, calculate the necessary flows for each mode. \n",
    "<br/>\n",
    "<br/>\n",
    "Assumptions: \n",
    "<br/>    \n",
    "The source side uses water as circulating fluid. Consider a temperature difference of 5 K between the water inlet-outlet in the GSHP condenser and 3 K for all other heat exchangers. Consider a GSHP compressor stop time of 10 minutes. The buffer tank is heated by 4 K during the heating peak load for 10 minutes\n",
    "</div>"
   ]
  },
  {
   "cell_type": "markdown",
   "metadata": {},
   "source": [
    "$V_{buf} = $\n",
    "\n",
    "\n",
    "$\\dot{m}_{sin} = $\n",
    "\n",
    "\n",
    "$\\dot{m}_{sou, hea} = $\n",
    "\n",
    "\n",
    "$\\dot{m}_{sou,coo} = $\n",
    "\n",
    "\n",
    "$\\dot{m}_{emi, hea} = $\n",
    "\n",
    "\n",
    "$\\dot{m}_{emi, coo} = $"
   ]
  },
  {
   "cell_type": "markdown",
   "metadata": {},
   "source": [
    "#### Question 2"
   ]
  },
  {
   "cell_type": "markdown",
   "metadata": {},
   "source": [
    "Assuming that the nominal COP of the GSHP is 4.9, compute the ground peak and monthly loads as well as the yearly unbalance load. Use the [Excel spreadsheet](loadCalc.xlsx) provided in the previous section.\n"
   ]
  },
  {
   "cell_type": "markdown",
   "metadata": {},
   "source": [
    "<table>\n",
    "<tbody>\n",
    "<tr>\n",
    "<td rowspan=\"2\" width=\"113\">\n",
    "<p><strong>Ground loads</strong></p>\n",
    "<p><strong>(COP = 4.9)</strong></p>\n",
    "</td>\n",
    "<td colspan=\"2\" width=\"227\">\n",
    "<p><strong>PEAK</strong></p>\n",
    "</td>\n",
    "<td colspan=\"2\" width=\"227\">\n",
    "<p><strong>MONTHLY</strong></p>\n",
    "</td>\n",
    "</tr>\n",
    "<tr>\n",
    "<td width=\"113\">\n",
    "<p><strong>Heating [W]</strong></p>\n",
    "</td>\n",
    "<td width=\"113\">\n",
    "<p><strong>Cooling [W]</strong></p>\n",
    "</td>\n",
    "<td width=\"113\">\n",
    "<p><strong>Heating [W]</strong></p>\n",
    "</td>\n",
    "<td width=\"113\">\n",
    "<p><strong>Cooling [W]</strong></p>\n",
    "</td>\n",
    "</tr>\n",
    "<tr>\n",
    "<td width=\"113\">\n",
    "<p><strong>January</strong></p>\n",
    "</td>\n",
    "<td width=\"113\">\n",
    "<p>&nbsp;</p>\n",
    "</td>\n",
    "<td width=\"113\">\n",
    "<p>&nbsp;</p>\n",
    "</td>\n",
    "<td width=\"113\">\n",
    "<p>&nbsp;</p>\n",
    "</td>\n",
    "<td width=\"113\">\n",
    "<p>&nbsp;</p>\n",
    "</td>\n",
    "</tr>\n",
    "<tr>\n",
    "<td width=\"113\">\n",
    "<p><strong>February</strong></p>\n",
    "</td>\n",
    "<td width=\"113\">\n",
    "<p>&nbsp;</p>\n",
    "</td>\n",
    "<td width=\"113\">\n",
    "<p>&nbsp;</p>\n",
    "</td>\n",
    "<td width=\"113\">\n",
    "<p>&nbsp;</p>\n",
    "</td>\n",
    "<td width=\"113\">\n",
    "<p>&nbsp;</p>\n",
    "</td>\n",
    "</tr>\n",
    "<tr>\n",
    "<td width=\"113\">\n",
    "<p><strong>March</strong></p>\n",
    "</td>\n",
    "<td width=\"113\">\n",
    "<p>&nbsp;</p>\n",
    "</td>\n",
    "<td width=\"113\">\n",
    "<p>&nbsp;</p>\n",
    "</td>\n",
    "<td width=\"113\">\n",
    "<p>&nbsp;</p>\n",
    "</td>\n",
    "<td width=\"113\">\n",
    "<p>&nbsp;</p>\n",
    "</td>\n",
    "</tr>\n",
    "<tr>\n",
    "<td width=\"113\">\n",
    "<p><strong>April</strong></p>\n",
    "</td>\n",
    "<td width=\"113\">\n",
    "<p>&nbsp;</p>\n",
    "</td>\n",
    "<td width=\"113\">\n",
    "<p>&nbsp;</p>\n",
    "</td>\n",
    "<td width=\"113\">\n",
    "<p>&nbsp;</p>\n",
    "</td>\n",
    "<td width=\"113\">\n",
    "<p>&nbsp;</p>\n",
    "</td>\n",
    "</tr>\n",
    "<tr>\n",
    "<td width=\"113\">\n",
    "<p><strong>May</strong></p>\n",
    "</td>\n",
    "<td width=\"113\">\n",
    "<p>&nbsp;</p>\n",
    "</td>\n",
    "<td width=\"113\">\n",
    "<p>&nbsp;</p>\n",
    "</td>\n",
    "<td width=\"113\">\n",
    "<p>&nbsp;</p>\n",
    "</td>\n",
    "<td width=\"113\">\n",
    "<p>&nbsp;</p>\n",
    "</td>\n",
    "</tr>\n",
    "<tr>\n",
    "<td width=\"113\">\n",
    "<p><strong>June</strong></p>\n",
    "</td>\n",
    "<td width=\"113\">\n",
    "<p>&nbsp;</p>\n",
    "</td>\n",
    "<td width=\"113\">\n",
    "<p>&nbsp;</p>\n",
    "</td>\n",
    "<td width=\"113\">\n",
    "<p>&nbsp;</p>\n",
    "</td>\n",
    "<td width=\"113\">\n",
    "<p>&nbsp;</p>\n",
    "</td>\n",
    "</tr>\n",
    "<tr>\n",
    "<td width=\"113\">\n",
    "<p><strong>July</strong></p>\n",
    "</td>\n",
    "<td width=\"113\">\n",
    "<p>&nbsp;</p>\n",
    "</td>\n",
    "<td width=\"113\">\n",
    "<p>&nbsp;</p>\n",
    "</td>\n",
    "<td width=\"113\">\n",
    "<p>&nbsp;</p>\n",
    "</td>\n",
    "<td width=\"113\">\n",
    "<p>&nbsp;</p>\n",
    "</td>\n",
    "</tr>\n",
    "<tr>\n",
    "<td width=\"113\">\n",
    "<p><strong>August</strong></p>\n",
    "</td>\n",
    "<td width=\"113\">\n",
    "<p>&nbsp;</p>\n",
    "</td>\n",
    "<td width=\"113\">\n",
    "<p>&nbsp;</p>\n",
    "</td>\n",
    "<td width=\"113\">\n",
    "<p>&nbsp;</p>\n",
    "</td>\n",
    "<td width=\"113\">\n",
    "<p>&nbsp;</p>\n",
    "</td>\n",
    "</tr>\n",
    "<tr>\n",
    "<td width=\"113\">\n",
    "<p><strong>September</strong></p>\n",
    "</td>\n",
    "<td width=\"113\">\n",
    "<p>&nbsp;</p>\n",
    "</td>\n",
    "<td width=\"113\">\n",
    "<p>&nbsp;</p>\n",
    "</td>\n",
    "<td width=\"113\">\n",
    "<p>&nbsp;</p>\n",
    "</td>\n",
    "<td width=\"113\">\n",
    "<p>&nbsp;</p>\n",
    "</td>\n",
    "</tr>\n",
    "<tr>\n",
    "<td width=\"113\">\n",
    "<p><strong>October</strong></p>\n",
    "</td>\n",
    "<td width=\"113\">\n",
    "<p>&nbsp;</p>\n",
    "</td>\n",
    "<td width=\"113\">\n",
    "<p>&nbsp;</p>\n",
    "</td>\n",
    "<td width=\"113\">\n",
    "<p>&nbsp;</p>\n",
    "</td>\n",
    "<td width=\"113\">\n",
    "<p>&nbsp;</p>\n",
    "</td>\n",
    "</tr>\n",
    "<tr>\n",
    "<td width=\"113\">\n",
    "<p><strong>November</strong></p>\n",
    "</td>\n",
    "<td width=\"113\">\n",
    "<p>&nbsp;</p>\n",
    "</td>\n",
    "<td width=\"113\">\n",
    "<p>&nbsp;</p>\n",
    "</td>\n",
    "<td width=\"113\">\n",
    "<p>&nbsp;</p>\n",
    "</td>\n",
    "<td width=\"113\">\n",
    "<p>&nbsp;</p>\n",
    "</td>\n",
    "</tr>\n",
    "<tr>\n",
    "<td width=\"113\">\n",
    "<p><strong>December</strong></p>\n",
    "</td>\n",
    "<td width=\"113\">\n",
    "<p>&nbsp;</p>\n",
    "</td>\n",
    "<td width=\"113\">\n",
    "<p>&nbsp;</p>\n",
    "</td>\n",
    "<td width=\"113\">\n",
    "<p>&nbsp;</p>\n",
    "</td>\n",
    "<td width=\"113\">\n",
    "<p>&nbsp;</p>\n",
    "</td>\n",
    "</tr>\n",
    "<tr>\n",
    "<td width=\"113\">\n",
    "<p><strong>MAX PEAK</strong></p>\n",
    "</td>\n",
    "<td width=\"113\">\n",
    "<p>&nbsp;</p>\n",
    "</td>\n",
    "<td width=\"113\">\n",
    "<p>&nbsp;</p>\n",
    "</td>\n",
    "<td width=\"113\">\n",
    "<p><strong>YEARLY LOAD</strong></p>\n",
    "</td>\n",
    "<td width=\"113\">&nbsp;</td>\n",
    "</tr>\n",
    "</tbody>\n",
    "</table>\n",
    "<p>&nbsp;</p>"
   ]
  },
  {
   "cell_type": "markdown",
   "metadata": {},
   "source": [
    "#### Question 3"
   ]
  },
  {
   "cell_type": "markdown",
   "metadata": {},
   "source": [
    "<div align=\"justify\">\n",
    "Using the loads you have calculated in Question 2, calculate the total length of your borefield. Check the soil thermal conductivity $k_g$ properties in the SmartGeotherm screening tool for the Uccle location.\n",
    "<br/>\n",
    "<br/>\n",
    "     <a href=\"https://tool.smartgeotherm.be/geo/alg\">SmartGeotherm screening tool</a> \n",
    "<br/>\n",
    "<br/>\n",
    "Assumptions: \n",
    "<br/>   \n",
    "The effective borehole resitance is $R_b = 0.144 \\frac{mK}{W}$. The borefield fluid temperature $T_f$ limit is 0 °C for heating and 18 °C for cooling. The undisturbed ground temperature $T_g$ is 10 °C and its thermal diffusivity $\\alpha_{g}$ is 8.33e-7 $\\frac{m²}{s}$.\n",
    "<br/>    \n",
    "To compute the effective ground resistances, aid yourself using the piece of code below, which calls the function described in the previous paragraph. Change the arguments of the function accordingly and push the \"Run\" button above to execute it!\n",
    "</div>"
   ]
  },
  {
   "cell_type": "code",
   "execution_count": null,
   "metadata": {},
   "outputs": [],
   "source": [
    "%matplotlib inline\n",
    "from resistanceCalculator import computeResistances\n",
    "\n",
    "computeResistances(qh,qm,qy,kSoi,aSoi,Rb,Tg,Tf)"
   ]
  },
  {
   "cell_type": "markdown",
   "metadata": {},
   "source": [
    "#### Question 4"
   ]
  },
  {
   "cell_type": "markdown",
   "metadata": {},
   "source": [
    "<div align=\"justify\">\n",
    "Imagine that you can choose two different locations for your building, from which you have results of thermal response tests. The first location has a granite soil with a conductivity $k_g = 3.2 \\frac{W}{mK}$ and the same soil diffusivity as in Question 3. The second location has a special sand soil with a conductivity of $k_g = 2.5 \\frac{W}{mK}$ but a 50% higher thermal diffusivity. Which soil parameter (conductivity or diffusivity) has more influence on the borefield length? In which location would you place the building? Reason why.\n",
    "</div>"
   ]
  },
  {
   "cell_type": "code",
   "execution_count": null,
   "metadata": {},
   "outputs": [],
   "source": [
    "%matplotlib inline\n",
    "from resistanceCalculator import computeResistances\n",
    "\n",
    "computeResistances(qh,qm,qy,kSoi,aSoi,Rb,Tg,Tf)"
   ]
  },
  {
   "cell_type": "markdown",
   "metadata": {},
   "source": [
    "#### References: <br/>\n",
    "\n",
    "<div align=\"justify\">\n",
    "[4] Cimmino, M., & Bernier, M. (2014). A semi-analytical method to generate g-functions for geothermal bore fields. International Journal of Heat and Mass Transfer, 70, 641-650.<br/>\n",
    "[5] Ahmadfard, M., & Bernier, M. (2014). An alternative to ASHRAE's design length equation for sizing borehole heat exchangers. ASHRAE Transactions, 120(2).<br/>\n",
    "[6] Spitler, J. D., & Bernier, M. (2016). Vertical borehole ground heat exchanger design methods. In Advances in ground-source heat pump systems (pp. 29-61). Woodhead Publishing.<br/>\n",
    "</div>"
   ]
  },
  {
   "cell_type": "markdown",
   "metadata": {},
   "source": [
    "[<--- Go to previous part: Static load calculation](PartII_StaticCalc.ipynb)\n",
    "\n",
    "[Go to next part: Dynamic simulations --->](PartIV_DynamicSim.ipynb)"
   ]
  }
 ],
 "metadata": {
  "kernelspec": {
   "display_name": "Python 2",
   "language": "python",
   "name": "python2"
  },
  "language_info": {
   "codemirror_mode": {
    "name": "ipython",
    "version": 2
   },
   "file_extension": ".py",
   "mimetype": "text/x-python",
   "name": "python",
   "nbconvert_exporter": "python",
   "pygments_lexer": "ipython2",
   "version": "2.7.12"
  }
 },
 "nbformat": 4,
 "nbformat_minor": 2
}
